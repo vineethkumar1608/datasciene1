{
  "nbformat": 4,
  "nbformat_minor": 0,
  "metadata": {
    "colab": {
      "name": "basicstats2-set 2.ipynb",
      "provenance": [],
      "authorship_tag": "ABX9TyPOYNyJJlYzmHUGz/NAKKac",
      "include_colab_link": true
    },
    "kernelspec": {
      "name": "python3",
      "display_name": "Python 3"
    },
    "language_info": {
      "name": "python"
    }
  },
  "cells": [
    {
      "cell_type": "markdown",
      "metadata": {
        "id": "view-in-github",
        "colab_type": "text"
      },
      "source": [
        "<a href=\"https://colab.research.google.com/github/vineethkumar1608/datasciene1/blob/main/basicstats2_set_2.ipynb\" target=\"_parent\"><img src=\"https://colab.research.google.com/assets/colab-badge.svg\" alt=\"Open In Colab\"/></a>"
      ]
    },
    {
      "cell_type": "code",
      "execution_count": 5,
      "metadata": {
        "id": "sSzz2d761eCh"
      },
      "outputs": [],
      "source": [
        "from scipy import stats\n",
        "from scipy.stats import norm\n"
      ]
    },
    {
      "cell_type": "code",
      "source": [
        "q=1-stats.norm.cdf(60,55,8)\n",
        "print(q)"
      ],
      "metadata": {
        "colab": {
          "base_uri": "https://localhost:8080/"
        },
        "id": "8NsAkolKEdkW",
        "outputId": "9bb9f6bf-7a6e-467d-c253-243be677ea3c"
      },
      "execution_count": 7,
      "outputs": [
        {
          "output_type": "stream",
          "name": "stdout",
          "text": [
            "0.26598552904870054\n"
          ]
        }
      ]
    },
    {
      "cell_type": "code",
      "source": [
        "e_gt_44=1-stats.norm.cdf(44,38,6)\n",
        "e_lt_44=stats.norm.cdf(44,38,6)\n",
        "e_lt_38=stats.norm.cdf(38,38,6)\n",
        "egt38__eLT44=(e_lt_44-e_lt_38)\n",
        "print(\"greater than 44:\",e_gt_44*100,\"%\")\n",
        "print(\"btween 38-44\",egt38__eLT44*100, \"%\")"
      ],
      "metadata": {
        "colab": {
          "base_uri": "https://localhost:8080/"
        },
        "id": "5JHU-QXrEeuH",
        "outputId": "7906100d-4057-429a-bd59-26682d2e50dd"
      },
      "execution_count": 20,
      "outputs": [
        {
          "output_type": "stream",
          "name": "stdout",
          "text": [
            "greater than 44: 15.865525393145708 %\n",
            "btween 38-44 34.13447460685429 %\n"
          ]
        }
      ]
    },
    {
      "cell_type": "code",
      "source": [
        "e_lt_30=stats.norm.cdf(30,38,6)\n",
        "print(e_lt_30*400)"
      ],
      "metadata": {
        "colab": {
          "base_uri": "https://localhost:8080/"
        },
        "id": "VDLSyPpoFq1m",
        "outputId": "beb5faf1-38e2-4775-bf02-bee7e50a610e"
      },
      "execution_count": 23,
      "outputs": [
        {
          "output_type": "stream",
          "name": "stdout",
          "text": [
            "36.484487890347154\n"
          ]
        }
      ]
    },
    {
      "cell_type": "code",
      "source": [
        "ab=stats.norm.interval(0.99,100,20)\n",
        "ab"
      ],
      "metadata": {
        "colab": {
          "base_uri": "https://localhost:8080/"
        },
        "id": "QVxMdgWlFsFF",
        "outputId": "423d0460-3d8a-4f12-b7fc-21d986a1c034"
      },
      "execution_count": 26,
      "outputs": [
        {
          "output_type": "execute_result",
          "data": {
            "text/plain": [
              "(48.48341392902199, 151.516586070978)"
            ]
          },
          "metadata": {},
          "execution_count": 26
        }
      ]
    },
    {
      "cell_type": "code",
      "source": [
        "x=5+7\n",
        "sd=(9+16)**0.5\n",
        "rs=x*45\n",
        "print(stats.norm.interval(0.95,rs,sd*45))\n"
      ],
      "metadata": {
        "colab": {
          "base_uri": "https://localhost:8080/"
        },
        "id": "0jO1wTv_RKKm",
        "outputId": "987fa996-3e1e-4b70-a5a9-631f3f6b0de9"
      },
      "execution_count": 38,
      "outputs": [
        {
          "output_type": "stream",
          "name": "stdout",
          "text": [
            "(99.00810347848784, 980.9918965215122)\n"
          ]
        }
      ]
    },
    {
      "cell_type": "code",
      "source": [
        "z5=stats.norm.ppf(0.05)\n",
        "print(\"5th percentile profit\",(z5*(sd*45))+rs)"
      ],
      "metadata": {
        "colab": {
          "base_uri": "https://localhost:8080/"
        },
        "id": "IW9fQoKdSJmD",
        "outputId": "e80da506-c8da-4f24-ed98-34031880326e"
      },
      "execution_count": 35,
      "outputs": [
        {
          "output_type": "stream",
          "name": "stdout",
          "text": [
            "5th percentile profit 169.9079339359186\n"
          ]
        }
      ]
    },
    {
      "cell_type": "code",
      "source": [
        "if(stats.norm.cdf(0,5,3)>stats.norm.cdf(0,7,4)):\n",
        "  print(\"Profit1 company has higher loss probability\")\n",
        "else:\n",
        "  print(\"Profit2 company has higher loss probability\")\n"
      ],
      "metadata": {
        "colab": {
          "base_uri": "https://localhost:8080/"
        },
        "id": "6cFGDXhDS201",
        "outputId": "87eb1d9d-d196-4eb0-bc2d-d26dfe72cef0"
      },
      "execution_count": 39,
      "outputs": [
        {
          "output_type": "stream",
          "name": "stdout",
          "text": [
            "Profit1 company has higher loss probability\n"
          ]
        }
      ]
    },
    {
      "cell_type": "code",
      "source": [
        ""
      ],
      "metadata": {
        "id": "9cQ9-2tPZ4Va"
      },
      "execution_count": 43,
      "outputs": []
    },
    {
      "cell_type": "code",
      "source": [
        ""
      ],
      "metadata": {
        "id": "ZBil5qIfbXke"
      },
      "execution_count": null,
      "outputs": []
    }
  ]
}