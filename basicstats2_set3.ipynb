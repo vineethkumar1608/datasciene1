{
  "nbformat": 4,
  "nbformat_minor": 0,
  "metadata": {
    "colab": {
      "name": "basicstats2-set3.ipynb",
      "provenance": [],
      "authorship_tag": "ABX9TyOHuu4eglthbWK9Fgk3fGUt",
      "include_colab_link": true
    },
    "kernelspec": {
      "name": "python3",
      "display_name": "Python 3"
    },
    "language_info": {
      "name": "python"
    }
  },
  "cells": [
    {
      "cell_type": "markdown",
      "metadata": {
        "id": "view-in-github",
        "colab_type": "text"
      },
      "source": [
        "<a href=\"https://colab.research.google.com/github/vineethkumar1608/datasciene1/blob/main/basicstats2_set3.ipynb\" target=\"_parent\"><img src=\"https://colab.research.google.com/assets/colab-badge.svg\" alt=\"Open In Colab\"/></a>"
      ]
    },
    {
      "cell_type": "code",
      "execution_count": 5,
      "metadata": {
        "colab": {
          "base_uri": "https://localhost:8080/"
        },
        "id": "ioci1AjOYCUh",
        "outputId": "aab3446f-7c30-4f52-fdf1-7c75d5b8b5c1"
      },
      "outputs": [
        {
          "output_type": "execute_result",
          "data": {
            "text/plain": [
              "0.794114967548929"
            ]
          },
          "metadata": {},
          "execution_count": 5
        }
      ],
      "source": [
        "z=(0.046-0.05)/(((0.05*(1-0.05))/2000)**0.5)\n",
        "from scipy import stats\n",
        "from scipy.stats import norm\n",
        "p=1-stats.norm.cdf(z)\n",
        "p"
      ]
    },
    {
      "cell_type": "code",
      "source": [
        "n=((1.96**2)*0.5*0.5)/(0.04**2)\n",
        "n"
      ],
      "metadata": {
        "colab": {
          "base_uri": "https://localhost:8080/"
        },
        "id": "7C_NW5IZqIFv",
        "outputId": "497e4ad3-f4fd-4b9f-a9fc-021595a9bc01"
      },
      "execution_count": 7,
      "outputs": [
        {
          "output_type": "execute_result",
          "data": {
            "text/plain": [
              "600.2499999999999"
            ]
          },
          "metadata": {},
          "execution_count": 7
        }
      ]
    },
    {
      "cell_type": "code",
      "source": [
        "n1=((2.33**2)*0.5*0.5)/(0.04**2)\n",
        "n1"
      ],
      "metadata": {
        "colab": {
          "base_uri": "https://localhost:8080/"
        },
        "id": "M7ZDqUTexqLM",
        "outputId": "f0b62648-6459-4bfd-a210-6a837ede4667"
      },
      "execution_count": 12,
      "outputs": [
        {
          "output_type": "execute_result",
          "data": {
            "text/plain": [
              "848.265625"
            ]
          },
          "metadata": {},
          "execution_count": 12
        }
      ]
    },
    {
      "cell_type": "code",
      "source": [
        ""
      ],
      "metadata": {
        "id": "j0InKFNtyFrN"
      },
      "execution_count": null,
      "outputs": []
    }
  ]
}