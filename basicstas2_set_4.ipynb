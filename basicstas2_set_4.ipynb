{
  "nbformat": 4,
  "nbformat_minor": 0,
  "metadata": {
    "colab": {
      "name": "basicstas2-set 4.ipynb",
      "provenance": [],
      "authorship_tag": "ABX9TyO57+5CmCZoy8G56ciQ5K30",
      "include_colab_link": true
    },
    "kernelspec": {
      "name": "python3",
      "display_name": "Python 3"
    },
    "language_info": {
      "name": "python"
    }
  },
  "cells": [
    {
      "cell_type": "markdown",
      "metadata": {
        "id": "view-in-github",
        "colab_type": "text"
      },
      "source": [
        "<a href=\"https://colab.research.google.com/github/vineethkumar1608/datasciene1/blob/main/basicstas2_set_4.ipynb\" target=\"_parent\"><img src=\"https://colab.research.google.com/assets/colab-badge.svg\" alt=\"Open In Colab\"/></a>"
      ]
    },
    {
      "cell_type": "code",
      "execution_count": 11,
      "metadata": {
        "colab": {
          "base_uri": "https://localhost:8080/"
        },
        "id": "CfqdN0JgAhhX",
        "outputId": "e1db0d85-005b-4435-fb89-1de108558d22"
      },
      "outputs": [
        {
          "output_type": "stream",
          "name": "stdout",
          "text": [
            "21.129954733371072 %\n"
          ]
        }
      ],
      "source": [
        "from scipy import stats\n",
        "from scipy.stats import norm\n",
        "z=(45-50)/(40/100**0.5)\n",
        "z2=(55-50)/(40/(100**0.5))\n",
        "p45=stats.norm.cdf(z)\n",
        "p55=stats.norm.cdf(z2)\n",
        "pm=p55-p45\n",
        "print((1-pm)*100,\"%\")"
      ]
    },
    {
      "cell_type": "code",
      "source": [
        "z=(45-50)/(40/250**0.5)\n",
        "z2=(55-50)/(40/(250**0.5))\n",
        "p45=stats.norm.cdf(z)\n",
        "p55=stats.norm.cdf(z2)\n",
        "pm=p55-p45\n",
        "print((1-pm)*100,\"%\")"
      ],
      "metadata": {
        "colab": {
          "base_uri": "https://localhost:8080/"
        },
        "id": "GtzcFLIELMC3",
        "outputId": "6c1ad397-d34d-4311-a5d7-17817e059cdb"
      },
      "execution_count": 12,
      "outputs": [
        {
          "output_type": "stream",
          "name": "stdout",
          "text": [
            "4.81068278885195 %\n"
          ]
        }
      ]
    },
    {
      "cell_type": "code",
      "source": [
        ""
      ],
      "metadata": {
        "id": "Iz-WiIkSM0NH"
      },
      "execution_count": null,
      "outputs": []
    }
  ]
}